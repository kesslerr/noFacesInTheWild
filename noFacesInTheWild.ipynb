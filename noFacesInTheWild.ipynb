{
 "cells": [
  {
   "cell_type": "code",
   "execution_count": 1,
   "metadata": {},
   "outputs": [
    {
     "name": "stderr",
     "output_type": "stream",
     "text": [
      "Using TensorFlow backend.\n"
     ]
    }
   ],
   "source": [
    "import os\n",
    "from glob import glob\n",
    "import numpy as np\n",
    "import pandas as pd\n",
    "import cv2\n",
    "import matplotlib.pyplot as plt\n",
    "%matplotlib inline\n",
    "import seaborn as sns\n",
    "np.random.seed(42)\n",
    "from PIL import Image # to handle images\n",
    "from scipy.ndimage.filters import gaussian_filter\n",
    "from scipy.stats import ttest_ind\n",
    "from keras.models import Sequential\n",
    "from keras.layers import Dense,GlobalAveragePooling2D\n",
    "from keras.applications import MobileNet\n",
    "from keras.preprocessing import image\n",
    "from keras.applications.mobilenet import preprocess_input\n",
    "from keras.preprocessing.image import ImageDataGenerator\n",
    "from keras.models import Model\n",
    "from keras.optimizers import Adam\n",
    "from keras.layers import Dense, Dropout, Conv2D, Flatten, MaxPool2D, BatchNormalization\n",
    "from sklearn.model_selection import train_test_split\n",
    "from keras.utils import to_categorical"
   ]
  },
  {
   "cell_type": "markdown",
   "metadata": {},
   "source": [
    "## functions"
   ]
  },
  {
   "cell_type": "code",
   "execution_count": 89,
   "metadata": {},
   "outputs": [],
   "source": [
    "# load images and process to the format\n",
    "\n",
    "def augment_image(images4D):\n",
    "    ori_length = images4D.shape[0]\n",
    "    images4DAug = np.concatenate( (images4D, images4D, images4D, images4D), axis = 0 ) # quadruple it\n",
    "    images4DAug[ori_length*2:,:,:,:] = 255 - images4DAug[ori_length*2:,:,:,:] #invert the last half\n",
    "    images4DAug[ori_length:ori_length*2,:,:,:] = np.flip(images4DAug[ori_length:ori_length*2,:,:,:], axis = 2) # flip the second quarter\n",
    "    images4DAug[ori_length*3:ori_length*4,:,:,:] = np.flip(images4DAug[ori_length*3:ori_length*4,:,:,:], axis = 2)# flip the fourth quarter\n",
    "    return images4DAug\n",
    "\n",
    "def render_noisy(images4D, p=0.2):\n",
    "    na,nb,nc,nd = images4D.shape\n",
    "    for a in range(na):\n",
    "        for b in range(nb):\n",
    "            for c in range(nc):\n",
    "                r = np.random.binomial(1,p)\n",
    "                if r == 1:\n",
    "                    images4D[a,b,c,0] = 255-images4D[a,b,c,0]\n",
    "                    images4D[a,b,c,1] = 255-images4D[a,b,c,1]\n",
    "                    images4D[a,b,c,2] = 255-images4D[a,b,c,2]\n",
    "    return images4D"
   ]
  },
  {
   "cell_type": "code",
   "execution_count": null,
   "metadata": {},
   "outputs": [],
   "source": []
  },
  {
   "cell_type": "code",
   "execution_count": null,
   "metadata": {},
   "outputs": [],
   "source": [
    "\n",
    "    "
   ]
  },
  {
   "cell_type": "code",
   "execution_count": 107,
   "metadata": {},
   "outputs": [
    {
     "name": "stdout",
     "output_type": "stream",
     "text": [
      "[ 69.      75.      80.      89.     109.     132.     149.     177.3125\n",
      " 185.    ]\n"
     ]
    }
   ],
   "source": [
    "images = glob(\"D:/paredolia/noFacesInTheWild/data/wtface/small/*.jpg\")\n",
    "\n",
    "quantile_alphas = np.linspace(0.25,0.75,num=9) # define the alphas of the quantiles\n",
    "quantiles = np.quantile(img,quantile_alphas) # get the values (z) of the quantiles\n",
    "print(quantiles)\n",
    "\n",
    "Train = np.ndarray((len(images)*len(quantiles),43,32,3))\n",
    "\n",
    "counter = 0\n",
    "for j, file in enumerate(images):\n",
    "    try:\n",
    "        img = cv2.imread(file,0) # load\n",
    "        img = cv2.resize(img,(32,43)) # reshape it\n",
    "        img\n",
    "\n",
    "        for q in quantiles:\n",
    "            img2 = cv2.threshold(img,q,255,cv2.THRESH_BINARY)\n",
    "            img2 = cv2.cvtColor(img2[1],cv2.COLOR_GRAY2RGB) # to rgb #np.float32\n",
    "            \n",
    "            #print(np.min(img2))\n",
    "            Train[counter,:,:,:] = img2\n",
    "            counter += 1\n",
    "            \n",
    "    except:\n",
    "        print(\"error in image #\"+str(j))\n",
    "\n",
    "Train = augment_image(Train) # invert + mirror on vertical axis\n",
    "Train = np.concatenate( (Train, np.flip(Train, axis = 1)), axis = 0 ) # add a horizontally flipped control condition ( no pareidolia )\n",
    "X = Train\n",
    "y = np.repeat([1,0],Train.shape[0]/2)\n",
    "\n",
    "#Train = render_noisy(Train, p = 0.4)"
   ]
  },
  {
   "cell_type": "code",
   "execution_count": 100,
   "metadata": {
    "scrolled": false
   },
   "outputs": [
    {
     "name": "stderr",
     "output_type": "stream",
     "text": [
      "W0915 15:50:08.053850  9808 image.py:709] Clipping input data to the valid range for imshow with RGB data ([0..1] for floats or [0..255] for integers).\n"
     ]
    },
    {
     "data": {
      "image/png": "[encoded data removed]",
      "text/plain": [
       "<Figure size 432x288 with 1 Axes>"
      ]
     },
     "metadata": {
      "needs_background": "light"
     },
     "output_type": "display_data"
    },
    {
     "name": "stderr",
     "output_type": "stream",
     "text": [
      "W0915 15:50:08.212961  9808 image.py:709] Clipping input data to the valid range for imshow with RGB data ([0..1] for floats or [0..255] for integers).\n"
     ]
    },
    {
     "data": {
      "image/png": "[encoded data removed]",
      "text/plain": [
       "<Figure size 432x288 with 1 Axes>"
      ]
     },
     "metadata": {
      "needs_background": "light"
     },
     "output_type": "display_data"
    }
   ],
   "source": [
    "for j in range(2):\n",
    "    i = np.random.randint(len(Train[:,0,0,0]))\n",
    "    plt.imshow(Train[i,:,:,:]); plt.show()"
   ]
  },
  {
   "cell_type": "code",
   "execution_count": 108,
   "metadata": {},
   "outputs": [
    {
     "data": {
      "text/plain": [
       "(87624, 43, 32, 3)"
      ]
     },
     "execution_count": 108,
     "metadata": {},
     "output_type": "execute_result"
    }
   ],
   "source": [
    "Train.shape"
   ]
  },
  {
   "cell_type": "code",
   "execution_count": 109,
   "metadata": {},
   "outputs": [
    {
     "data": {
      "text/plain": [
       "87624"
      ]
     },
     "execution_count": 109,
     "metadata": {},
     "output_type": "execute_result"
    }
   ],
   "source": [
    "len(y)"
   ]
  },
  {
   "cell_type": "code",
   "execution_count": 137,
   "metadata": {},
   "outputs": [],
   "source": [
    "# create data generator\n",
    "datagen = ImageDataGenerator(featurewise_center=False,\n",
    "    samplewise_center=False,\n",
    "    featurewise_std_normalization=False,\n",
    "    samplewise_std_normalization=False,\n",
    "    zca_whitening=False,\n",
    "    zca_epsilon=1e-06,\n",
    "    rotation_range=15, ###  changed this\n",
    "    width_shift_range=0.1, ### changed this\n",
    "    height_shift_range=0.1, ### changed this\n",
    "    brightness_range=None,\n",
    "    shear_range=0.1, ### changed this\n",
    "    zoom_range=0.1, ### changed this\n",
    "    channel_shift_range=0.0,\n",
    "    fill_mode='nearest',\n",
    "    cval=0.0,\n",
    "    horizontal_flip=False,\n",
    "    vertical_flip=False,\n",
    "    rescale=None,\n",
    "    preprocessing_function=None,\n",
    "    data_format=None,\n",
    "    validation_split=0.0, \n",
    "    dtype=None,)"
   ]
  },
  {
   "cell_type": "code",
   "execution_count": 138,
   "metadata": {},
   "outputs": [],
   "source": [
    "# create iterator\n",
    "X_train, X_test, y_train, y_test = train_test_split(Train, to_categorical(y), test_size = 0.25, random_state = 42)\n",
    "\n",
    "it = datagen.flow(X_train, y_train, batch_size=32)"
   ]
  },
  {
   "cell_type": "code",
   "execution_count": 139,
   "metadata": {},
   "outputs": [],
   "source": [
    "def transfer_learning():\n",
    "    # get mobilenet and add some layers at the end, 2 output classes\n",
    "    model = Sequential()\n",
    "    model.add(MobileNet(weights='imagenet',include_top=False, input_shape = (43, 32, 3) )) #imports the mobilenet model and discards the last 1000 neuron layer.\n",
    "    model.add(Flatten())\n",
    "    model.add(Dropout(0.2))\n",
    "    model.add(Dense(100, activation='relu'))\n",
    "    #model.add(Dropout(0.5))\n",
    "    model.add(Dense(2, activation='softmax')) # sigmoid\n",
    "    #model.summary()\n",
    "    #model.compile(loss='categorical_crossentropy', optimizer='adam', metrics=['accuracy']) # adam\n",
    "    return model"
   ]
  },
  {
   "cell_type": "code",
   "execution_count": 140,
   "metadata": {},
   "outputs": [
    {
     "name": "stderr",
     "output_type": "stream",
     "text": [
      "c:\\users\\roman\\anaconda3\\envs\\keras-gpu\\lib\\site-packages\\keras_applications\\mobilenet.py:207: UserWarning: `input_shape` is undefined or non-square, or `rows` is not in [128, 160, 192, 224]. Weights for input shape (224, 224) will be loaded as the default.\n",
      "  warnings.warn('`input_shape` is undefined or non-square, '\n"
     ]
    },
    {
     "name": "stdout",
     "output_type": "stream",
     "text": [
      "Epoch 1/25\n",
      "1500/1500 [==============================] - 121s 81ms/step - loss: 0.7184 - acc: 0.5193\n",
      "Epoch 2/25\n",
      "1500/1500 [==============================] - 110s 73ms/step - loss: 0.6741 - acc: 0.5833\n",
      "Epoch 3/25\n",
      "1500/1500 [==============================] - 101s 67ms/step - loss: 0.6572 - acc: 0.6073\n",
      "Epoch 4/25\n",
      "1500/1500 [==============================] - 102s 68ms/step - loss: 0.6553 - acc: 0.6110\n",
      "Epoch 5/25\n",
      "1500/1500 [==============================] - 109s 73ms/step - loss: 0.6526 - acc: 0.6117\n",
      "Epoch 6/25\n",
      "1500/1500 [==============================] - 111s 74ms/step - loss: 0.6554 - acc: 0.6104\n",
      "Epoch 7/25\n",
      "1500/1500 [==============================] - 111s 74ms/step - loss: 0.6408 - acc: 0.6301\n",
      "Epoch 8/25\n",
      "1500/1500 [==============================] - 106s 70ms/step - loss: 0.6331 - acc: 0.6370\n",
      "Epoch 9/25\n",
      "1500/1500 [==============================] - 99s 66ms/step - loss: 0.6267 - acc: 0.6459\n",
      "Epoch 10/25\n",
      "1500/1500 [==============================] - 103s 68ms/step - loss: 0.6202 - acc: 0.6496\n",
      "Epoch 11/25\n",
      "1500/1500 [==============================] - 100s 67ms/step - loss: 0.6093 - acc: 0.6614\n",
      "Epoch 12/25\n",
      "1500/1500 [==============================] - 99s 66ms/step - loss: 0.6014 - acc: 0.6678\n",
      "Epoch 13/25\n",
      "1500/1500 [==============================] - 100s 66ms/step - loss: 0.5916 - acc: 0.6778\n",
      "Epoch 14/25\n",
      "1500/1500 [==============================] - 101s 67ms/step - loss: 0.5813 - acc: 0.6852\n",
      "Epoch 15/25\n",
      "1500/1500 [==============================] - 100s 67ms/step - loss: 0.5699 - acc: 0.6935\n",
      "Epoch 16/25\n",
      "1500/1500 [==============================] - 104s 69ms/step - loss: 0.5606 - acc: 0.7033\n",
      "Epoch 17/25\n",
      "1500/1500 [==============================] - 101s 67ms/step - loss: 0.5457 - acc: 0.7147\n",
      "Epoch 18/25\n",
      "1500/1500 [==============================] - 100s 67ms/step - loss: 0.5362 - acc: 0.72221s - l\n",
      "Epoch 19/25\n",
      "1500/1500 [==============================] - 101s 67ms/step - loss: 0.5223 - acc: 0.73140s - loss: 0.5223 - acc: 0.731\n",
      "Epoch 20/25\n",
      "1500/1500 [==============================] - 101s 67ms/step - loss: 0.5110 - acc: 0.7380\n",
      "Epoch 21/25\n",
      "1500/1500 [==============================] - 101s 67ms/step - loss: 0.5011 - acc: 0.7481\n",
      "Epoch 22/25\n",
      "1500/1500 [==============================] - 101s 67ms/step - loss: 0.4914 - acc: 0.7543\n",
      "Epoch 23/25\n",
      "1500/1500 [==============================] - 101s 68ms/step - loss: 0.4769 - acc: 0.7659\n",
      "Epoch 24/25\n",
      "1500/1500 [==============================] - 101s 67ms/step - loss: 0.4668 - acc: 0.7708\n",
      "Epoch 25/25\n",
      "1500/1500 [==============================] - 101s 67ms/step - loss: 0.4535 - acc: 0.7790\n"
     ]
    },
    {
     "data": {
      "text/plain": [
       "<keras.callbacks.History at 0x25018d1a128>"
      ]
     },
     "execution_count": 140,
     "metadata": {},
     "output_type": "execute_result"
    }
   ],
   "source": [
    "model = transfer_learning()\n",
    "model.compile(loss='binary_crossentropy', optimizer='adam', metrics=['accuracy']) # adam #categorical_crossentropy\n",
    "model.fit_generator(it, epochs=25, steps_per_epoch=1500) #, \n",
    "# 25 epochs should already lead to conversion"
   ]
  },
  {
   "cell_type": "code",
   "execution_count": 141,
   "metadata": {},
   "outputs": [
    {
     "name": "stdout",
     "output_type": "stream",
     "text": [
      "acc: 79.33%\n"
     ]
    }
   ],
   "source": [
    "scores = model.evaluate(X_test, y_test, verbose=0)\n",
    "print(\"%s: %.2f%%\" % (model.metrics_names[1], scores[1]*100))"
   ]
  },
  {
   "cell_type": "code",
   "execution_count": null,
   "metadata": {},
   "outputs": [],
   "source": []
  },
  {
   "cell_type": "markdown",
   "metadata": {},
   "source": [
    "# load and test the subject data"
   ]
  },
  {
   "cell_type": "code",
   "execution_count": 125,
   "metadata": {},
   "outputs": [],
   "source": [
    "def predictions_noise(model, X_test):\n",
    "    predictions = model.predict_proba(X_test)\n",
    "    facePredictions = predictions[:,1]\n",
    "    plt.plot(facePredictions)\n",
    "    plt.show()\n",
    "\n",
    "def load_labels_and_stim(s, sigma = 1): # s: subject identifier\n",
    "    # load behavior file\n",
    "    behaviorFile = 'D:/paredolia/facepareidolia/labels/' + s + 'df.csv'\n",
    "    df = pd.read_csv(behaviorFile)\n",
    "\n",
    "    # load stimuli\n",
    "\n",
    "    files = sorted(glob('D:/paredolia/facepareidolia/stimuli/'+ s +'/' + '*.tif'))\n",
    "\n",
    "    X = np.ndarray((len(files),43,32,3))\n",
    "    yn = []\n",
    "    c = 0\n",
    "    for j, file in enumerate(files):\n",
    "        fname = os.path.split(os.path.normpath(file))[-1] # file name without path\n",
    "\n",
    "        # check if face or noface\n",
    "        try:\n",
    "            if df.loc[df['picture'] == fname, 'category'].iloc[0] == \"Face\":\n",
    "                yn.append(1)\n",
    "            elif df.loc[df['picture'] == fname, 'category'].iloc[0] == \"noFace\":\n",
    "                yn.append(0)\n",
    "        except:\n",
    "            #print(fname  + \"not rated !\")\n",
    "            c += 1\n",
    "            continue\n",
    "        img = cv2.imread(file,0)\n",
    "        img = cv2.resize(img,(32,43)) # reshape it\n",
    "        img = np.flip(img, axis = 0) # faces are upside down\n",
    "        img = cv2.GaussianBlur(img,(sigma,sigma),0)\n",
    "        img = cv2.threshold(img,127,255,cv2.THRESH_BINARY) #TTT\n",
    "        img = cv2.cvtColor(img[1],cv2.COLOR_GRAY2RGB) # to rgb\n",
    "        img = np.expand_dims(img, 0) # new dimension\n",
    "        X[j-c,:,:,:] = img.astype(\"int32\")\n",
    "    X = np.delete(X, list(range(X.shape[0]-c , X.shape[0])), axis = 0) # delete the images which were not rated\n",
    "    return X, yn\n",
    "\n",
    "def test_model(model, sigma = 1):\n",
    "    \n",
    "    # determine subjects\n",
    "    subs = glob(\"D:/paredolia/facepareidolia/stimuli/*\")\n",
    "    subs = [os.path.split(subs[i])[1] for i,s in enumerate(subs)]\n",
    "    \n",
    "    # loop over subjects\n",
    "    allFacePrediction = np.ndarray(1)\n",
    "    allNoFacePrediction = np.ndarray(1)\n",
    "    for i,s in enumerate(subs):\n",
    "        #print('subject ' + s)\n",
    "        \n",
    "        # load stimuli and labels\n",
    "        X, yn = load_labels_and_stim(s, sigma = sigma)\n",
    "        \n",
    "        # predict\n",
    "        predictions = model.predict_proba(X)\n",
    "        facePredictions = predictions[:,1]\n",
    "        #plt.plot(facePredictions)\n",
    "        #plt.show()\n",
    "        indices_face   = [i for i, x in enumerate(yn) if x == 1]\n",
    "        indices_noface = [i for i, x in enumerate(yn) if x == 0]\n",
    "        \n",
    "        # test significance\n",
    "        print(ttest_ind(facePredictions[indices_face], facePredictions[indices_noface], equal_var=True))\n",
    "        allFacePrediction = np.concatenate([allFacePrediction,facePredictions[indices_face]],axis=0)\n",
    "        allNoFacePrediction = np.concatenate([allNoFacePrediction,facePredictions[indices_noface]],axis=0)\n",
    "        # test significance for the 100 strongest images\n",
    "        \n",
    "    # test significance across subjects !!\n",
    "    print(\"across all subjects:\")\n",
    "    print(ttest_ind(allFacePrediction, allNoFacePrediction, equal_var=True))\n",
    "    \n",
    "def compare_prediction_similarities(model, sigma = 1):\n",
    "    \n",
    "    # determine subjects\n",
    "    subs = glob(\"D:/paredolia/facepareidolia/stimuli/*\")\n",
    "    subs = [os.path.split(subs[i])[1] for i,s in enumerate(subs)]\n",
    "    \n",
    "    # loop over subjects\n",
    "    predAllSub = []\n",
    "    labelAllSub = []\n",
    "    for i,s in enumerate(subs):\n",
    "        print('subject ' + s)\n",
    "        \n",
    "        # load stimuli and labels\n",
    "        X, yn = load_labels_and_stim(s, sigma = sigma)\n",
    "        \n",
    "        # predict\n",
    "        predictions = model.predict_proba(X)\n",
    "        facePredictions = predictions[:,1]\n",
    "        \n",
    "        predAllSub.append(facePredictions)\n",
    "        labelAllSub.append(yn)\n",
    "        \n",
    "    return predAllSub, labelAllSub\n",
    "        "
   ]
  },
  {
   "cell_type": "code",
   "execution_count": null,
   "metadata": {},
   "outputs": [
    {
     "name": "stdout",
     "output_type": "stream",
     "text": [
      "Ttest_indResult(statistic=2.548893037502808, pvalue=0.010851532765152983)\n",
      "Ttest_indResult(statistic=1.0708588987561427, pvalue=0.28431055615935186)\n",
      "Ttest_indResult(statistic=-2.2285309478698525, pvalue=0.026068577428092488)\n",
      "Ttest_indResult(statistic=-0.9321994978749331, pvalue=0.3514591177415586)\n",
      "Ttest_indResult(statistic=0.1626475603786006, pvalue=0.870829129651843)\n",
      "Ttest_indResult(statistic=1.4690830266571522, pvalue=0.14212603711355962)\n"
     ]
    }
   ],
   "source": [
    "test_model(model)"
   ]
  },
  {
   "cell_type": "code",
   "execution_count": null,
   "metadata": {},
   "outputs": [],
   "source": [
    "test_model(model, sigma = 2)"
   ]
  },
  {
   "cell_type": "code",
   "execution_count": null,
   "metadata": {},
   "outputs": [],
   "source": [
    "test_model(model, sigma = 3)"
   ]
  },
  {
   "cell_type": "code",
   "execution_count": null,
   "metadata": {},
   "outputs": [],
   "source": []
  },
  {
   "cell_type": "code",
   "execution_count": null,
   "metadata": {},
   "outputs": [],
   "source": [
    "preds, labs = compare_prediction_similarities(model, sigma = 1)"
   ]
  },
  {
   "cell_type": "code",
   "execution_count": null,
   "metadata": {},
   "outputs": [],
   "source": [
    "subs = glob(\"D:/paredolia/facepareidolia/stimuli/*\")\n",
    "subs = [os.path.split(subs[i])[1] for i,s in enumerate(subs)]\n",
    "\n",
    "# to tidy df\n",
    "d = []\n",
    "sub = []\n",
    "lab = []\n",
    "for s, i in enumerate(preds):\n",
    "    l = labs[s]\n",
    "    for j,k in zip (i,l):\n",
    "        d.append(j)\n",
    "        sub.append(subs[s])\n",
    "        lab.append(k)\n",
    "di = {\"subject\":sub,\"face prediction\":d,\"label\":lab}\n",
    "\n",
    "df = pd.DataFrame(di)\n",
    "df.head()\n",
    "\n",
    "sns.stripplot(x=\"subject\", y = \"face prediction\", data = df, size=2)\n",
    "#sns.violinplot(x=\"subject\", y = \"face prediction\", data = df)\n",
    "#plt.yscale('logit') #log\n",
    "#plt.yscale('log') #log\n",
    "sns.violinplot(x=\"subject\", y = \"face prediction\", data = df)\n",
    "plt.axhline(y=0.5, color = \"black\")\n",
    "plt.ylim(0,1)\n",
    "#plt.show()\n",
    "#plt.savefig(\"./paper/face_predictions.png\", dpi=250, transparency = True)"
   ]
  }
 ],
 "metadata": {
  "kernelspec": {
   "display_name": "Python 3",
   "language": "python",
   "name": "python3"
  },
  "language_info": {
   "codemirror_mode": {
    "name": "ipython",
    "version": 3
   },
   "file_extension": ".py",
   "mimetype": "text/x-python",
   "name": "python",
   "nbconvert_exporter": "python",
   "pygments_lexer": "ipython3",
   "version": "3.6.9"
  }
 },
 "nbformat": 4,
 "nbformat_minor": 4
}
